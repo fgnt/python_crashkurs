{
 "cells": [
  {
   "cell_type": "code",
   "execution_count": null,
   "id": "9c406fc7",
   "metadata": {},
   "outputs": [],
   "source": [
    "import numpy as np"
   ]
  },
  {
   "cell_type": "markdown",
   "id": "2260e629",
   "metadata": {},
   "source": [
    "# Task\n",
    "\n",
    "|   | Style | Desc.                                  | loops | `@`  | Broadcast | `+=` | `np.sum` | `np.einsum` |\n",
    "|:--|:--|:--                                         |:-----:| :--: | :--:      | :--: | :--:     | :--:        |\n",
    "|a) | C++ | Don't use vector and matrix ops.           | ✓     | ✗    | ✗         | ✓    | ✗        | ✗           |\n",
    "|b) | Math (+=) | Be as close as possible to the math.  | ✓     | ✓    | ✗         | ✓    | ✗        | ✗           |\n",
    "|c) | Math (sum) | Be as close as possible to the math.  | ✓     | ✓    | ✓         | ✗    | ✓        | ✗           |\n",
    "|d) | MatMul | Use `@` and no loops                  | ✗     | ✓    | ✓         | ✗    | ✓        | ✗           |\n",
    "|e) | Broadcast and sum | No loops and no `@`        | ✗     | ✗    | ✓         | ✗    | ✓        | ✗           |\n",
    "|f) | Einsum | Use `np.einsum`                       | ✗     | ✗    | ✗         | ✗    | ✗        | ✓           |\n",
    "|g) | List comprehension | Use list comprehensions   | ✓     | ✗    | ✗         | ✗    | ✓        | ✗           |\n",
    "\n",
    "1) Implement $a_i = \\sum_j b_{i, j}$, $\\quad \\forall_{i \\in \\{0, ..., I-1\\}}$.\n",
    "\n",
    "$\\quad$ Do b, c and d. (b=a, d=e)\n",
    "\n",
    "2) Implement $\\mathbf{a} = \\mathbf{B} \\mathbf{c}, \\quad \\mathbf{B} \\in \\mathbb{R}^{K \\times L}, \\quad \\mathbf{c} \\in \\mathbb{R}^{L}$.\n",
    "\n",
    "$\\quad$ Do a, b and e. (b=c=d)\n",
    "\n",
    "3) Implement $\\mathbf{A}_{i} = \\sum_j \\mathbf{B}_i \\mathbf{C} \\mathbf{E}_j$, $\\quad \\forall_{i \\in \\{0, ..., I-1\\}}$, $\\quad \\mathbf{B}_{i} \\in \\mathbb{R}^{K \\times L}$, $\\quad \\mathbf{E}_{j} \\in \\mathbb{R}^{M \\times N}$.\n",
    "\n",
    "$\\quad$ Do a-e.\n",
    "\n",
    "4) Implement $e_{k, n} = (\\mathbf{x}_n-\\boldsymbol{\\mu}_k)^\\mathrm{T} \\boldsymbol{\\Lambda}_k (\\mathbf{x}_n-\\boldsymbol{\\mu}_k)$, $\\quad \\forall_{k \\in \\{0, ..., K-1\\}, n \\in \\{0, ..., N-1\\}}$, $\\quad\\boldsymbol{\\Lambda}_k = \\boldsymbol{\\Sigma}_k^{-1} \\in \\mathbb{R}^{D \\times D}$, $\\quad \\mathbf{x}_n \\in \\mathbb{R}^{D}$, $\\quad \\boldsymbol{\\mu}_k \\in \\mathbb{R}^{D}$.\n",
    "\n",
    "$\\quad$ Do a-e.\n",
    "\n",
    "5) Do all tasks for f. In 4.f broadcasting is allowed.\n",
    "\n",
    "6) Optional: Do all tasks for g.\n",
    "\n",
    "Hints:\n",
    " - Initialize all matrices with different shapes and tie only those dims that are necessary.\n",
    " - Use `np.arange(...).reshape(...)` for initialization instead of `np.zeros(...)`."
   ]
  },
  {
   "cell_type": "code",
   "execution_count": null,
   "id": "5d9ee557",
   "metadata": {},
   "outputs": [],
   "source": [
    "# Init\n",
    "I, J, K, L, M, N = 2, 5, 3, 6, 7, 4"
   ]
  },
  {
   "cell_type": "code",
   "execution_count": null,
   "id": "003abfe6",
   "metadata": {},
   "outputs": [],
   "source": []
  }
 ],
 "metadata": {
  "@webio": {
   "lastCommId": null,
   "lastKernelId": null
  },
  "kernelspec": {
   "display_name": "Python 3",
   "language": "python",
   "name": "python3"
  },
  "language_info": {
   "codemirror_mode": {
    "name": "ipython",
    "version": 3
   },
   "file_extension": ".py",
   "mimetype": "text/x-python",
   "name": "python",
   "nbconvert_exporter": "python",
   "pygments_lexer": "ipython3",
   "version": "3.8.0"
  }
 },
 "nbformat": 4,
 "nbformat_minor": 5
}
