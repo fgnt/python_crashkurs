{
 "cells": [
  {
   "cell_type": "code",
   "execution_count": null,
   "id": "9c406fc7",
   "metadata": {},
   "outputs": [],
   "source": [
    "from IPython.display import display, HTML\n",
    "display(HTML(\"<style>.container { width:100% !important; }</style>\"))\n",
    "import numpy as np\n",
    "\n",
    "# Init\n",
    "I, J, K, L, M, N, D = 2, 5, 3, 6, 7, 4, 8"
   ]
  },
  {
   "cell_type": "markdown",
   "id": "2260e629",
   "metadata": {},
   "source": [
    "# Task overview\n",
    "\n",
    "|   | Style | Desc.                                  | loops | `@`  | Broadcast | `+=` | `np.sum` | `np.einsum` |\n",
    "|:--|:--|:--                                         |:-----:| :--: | :--:      | :--: | :--:     | :--:        |\n",
    "|(a) | C++ | Don't use vector and matrix ops.           | ✓     | ✗    | ✗         | ✓    | ✗        | ✗           |\n",
    "|(b) | Math (+=) | Be as close as possible to the math.  | ✓     | ✓    | ✗         | ✓    | ✗        | ✗           |\n",
    "|(c) | Math (sum) | Be as close as possible to the math.  | ✓     | ✓    | ✓         | ✗    | ✓        | ✗           |\n",
    "|(d) | MatMul | Use `@` and no loops                  | ✗     | ✓    | ✓         | ✗    | ✓        | ✗           |\n",
    "|(e) | Broadcast and sum | No loops and no `@`        | ✗     | ✗    | ✓         | ✗    | ✓        | ✗           |\n",
    "|(f) | Einsum | Use `np.einsum`                       | ✗     | ✗    | ✗         | ✗    | ✗        | ✓           |\n",
    "|(g) | List comprehension | Use list comprehensions   | ✓     | ✗    | ✗         | ✗    | ✓        | ✗           |\n",
    "\n",
    "\n",
    "Hints:\n",
    " - Initialize all matrices with different shapes and tie only those dims that are necessary. Do you know why?\n",
    " - Use `np.arange(...).reshape(...)` for initialization instead of `np.zeros(...)`. Do you know why?\n",
    " - $\\sum_j = \\sum_{j=0}^{J-1}$\n",
    "\n",
    "(1) $a_i = \\sum_j b_{i, j}$\n",
    "$\\qquad$$\\qquad$$\\qquad$\n",
    "(2) $\\mathbf{a} = \\mathbf{C} \\mathbf{e}$\n",
    "$\\qquad$$\\qquad$$\\qquad$\n",
    "(3) $\\mathbf{A}_{i} = \\sum_j \\mathbf{F}_i \\mathbf{G} \\mathbf{H}_j$\n",
    "$\\qquad$$\\qquad$$\\qquad$\n",
    "(4) $a_{k, n} = (\\mathbf{x}_n-\\boldsymbol{\\mu}_k)^\\mathrm{T} \\boldsymbol{\\Lambda}_k (\\mathbf{x}_n-\\boldsymbol{\\mu}_k)$\n",
    "\n",
    "$\\mathbf{C} \\in \\mathbb{R}^{K \\times L}$,\n",
    "$\\quad$\n",
    "$\\mathbf{F}_{i} \\in \\mathbb{R}^{K \\times L}$, $\\quad \\mathbf{H}_{j} \\in \\mathbb{R}^{M \\times N}$,\n",
    "$\\quad$\n",
    "$\\boldsymbol{\\Lambda}_k = \\boldsymbol{\\Sigma}_k^{-1} \\in \\mathbb{R}^{D \\times D}$,\n",
    "$\\quad$\n",
    "$\\forall_{i \\in \\{0, ..., I-1\\},~~k \\in \\{0, ..., K-1\\},~~n \\in \\{0, ..., N-1\\}}$\n",
    "\n",
    "<!-- \n",
    "This box contains a summary of the task, that can be shown on the beamer.\n",
    "Hence, use here a compact visualization.\n",
    "-->"
   ]
  },
  {
   "cell_type": "markdown",
   "id": "684788e3-2b73-4bd0-a740-dff0d3c21708",
   "metadata": {},
   "source": [
    "## (a) C++ style\n",
    "\n",
    "Don't use vector and matrix ops.\n",
    "\n",
    "This means, avoid any high-level features of numpy and write code that can be easily converted to any programming language.\n",
    "\n",
    "Common pattern to write such an code:\n",
    " - Allocate an output array.\n",
    " - Initialize the values of the output array with zero.\n",
    " - Write loops and use \"+=\" to do a summation\n",
    "\n",
    "Do you know, pros and cons of this approach?\n",
    "\n",
    "<!--\n",
    "Pro:\n",
    " - Programming language independent\n",
    " - In compiled languages usually fast\n",
    " - Straightforward to implement\n",
    "\n",
    "Con:\n",
    " - Slow in python <-- Main reason, why it is not usually not recommented to be used\n",
    " - Doesn't support optional independet dimensions\n",
    " - Can be lengthy\n",
    "-->"
   ]
  },
  {
   "cell_type": "code",
   "execution_count": null,
   "id": "615d035f-d706-42e5-90a3-9e0304bfdf45",
   "metadata": {},
   "outputs": [],
   "source": [
    "# X.a\n",
    "e = np.arange(L)\n",
    "a = np.zeros([I])\n",
    "\n",
    "for l in range(L):\n",
    "    for i in range(I):\n",
    "        a[i] += e[l]\n",
    "a"
   ]
  },
  {
   "cell_type": "markdown",
   "id": "4fe776e6-94e5-449b-b717-b53968ee6be0",
   "metadata": {},
   "source": [
    "## ([b,c,d]) Math / Matmul style\n",
    "\n",
    "Be as close as possible to the math.\n",
    "\n",
    "In python you can use the `@` (Matmul) operator to do a matrix multiplication.\n",
    "A summation can be realized with\n",
    " - loops and `+=`\n",
    " - broadcasing followed by a summation.\n",
    "\n",
    "The Matmul operator supports broadcasing by threating the last two dimensions as a matrix. Check the numpy documentation for the corner cases, i.e., what happens, when one operator is only 1-D? "
   ]
  },
  {
   "cell_type": "code",
   "execution_count": null,
   "id": "660941ed-9c30-4055-aa5f-3b23d19d5f5a",
   "metadata": {},
   "outputs": [],
   "source": [
    "# 2.[b,c,d]\n",
    "C = np.arange(K * L).reshape(K, L)\n",
    "e = np.arange(L)\n",
    "a = C @ e  # @ ... matmul / matrix multiplication\n",
    "a"
   ]
  },
  {
   "cell_type": "code",
   "execution_count": null,
   "id": "a0595c27-19c6-4afb-aee3-72d8d29aaa7d",
   "metadata": {},
   "outputs": [],
   "source": [
    "# X.c Math (sum) style\n",
    "e = np.arange(L)\n",
    "a = np.sum(a)\n",
    "a"
   ]
  },
  {
   "cell_type": "markdown",
   "id": "a0c0bcf5-764b-4141-9a22-c4c22ca914e9",
   "metadata": {},
   "source": [
    "## (e) Broadcasting\n",
    "\n",
    "No loops and no `@`\n",
    "\n",
    "Instead of using loops and/or the @ operator, it is also possible to use broadcasting and summation.\n",
    "While it is usually not recommented to convert a matrix multiplication to broadcasting and sum (Do you know why?),\n",
    "it is a good exercise to get familiar with broadcasting to apply it later to more complicated tasks.\n",
    "\n",
    "Can you change eq. 2 to two equations, where the first can be realized by broadcasting and the second by np.sum?"
   ]
  },
  {
   "cell_type": "markdown",
   "id": "81ed1cfa",
   "metadata": {},
   "source": [
    "# Tasks"
   ]
  },
  {
   "cell_type": "markdown",
   "id": "c1fba051",
   "metadata": {},
   "source": [
    "1) Implement $a_i = \\sum_j b_{i, j}$, $\\quad \\forall_{i \\in \\{0, ..., I-1\\}}$\n",
    "\n",
    "- (a) C++ style, (a)=(b)\n",
    "- (c) Math style, use `np.sum` instead of `+=` to calculate $a_i$\n",
    "- (e) Sum style, remove all loops, (e)=(d)"
   ]
  },
  {
   "cell_type": "code",
   "execution_count": null,
   "id": "97034544",
   "metadata": {},
   "outputs": [],
   "source": [
    "#(a)\n",
    "???"
   ]
  },
  {
   "cell_type": "code",
   "execution_count": null,
   "id": "ca9e66f2",
   "metadata": {},
   "outputs": [],
   "source": [
    "#(c)\n",
    "???"
   ]
  },
  {
   "cell_type": "code",
   "execution_count": null,
   "id": "6b8c4cdf",
   "metadata": {},
   "outputs": [],
   "source": [
    "#(e)\n",
    "???"
   ]
  },
  {
   "cell_type": "markdown",
   "id": "32ac526a",
   "metadata": {},
   "source": [
    "2) Implement $\\mathbf{a} = \\mathbf{C} \\mathbf{e}, \\quad \\mathbf{C} \\in \\mathbb{R}^{K \\times L}, \\quad \\mathbf{e} \\in \\mathbb{R}^{?}$.\n",
    "\n",
    "- (a) C++ style\n",
    "- (b) Math style, (b)=(c)=(d)\n",
    "- (e) Broadcast and sum"
   ]
  },
  {
   "cell_type": "code",
   "execution_count": null,
   "id": "fc07f457",
   "metadata": {},
   "outputs": [],
   "source": [
    "#(a)\n",
    "???"
   ]
  },
  {
   "cell_type": "code",
   "execution_count": null,
   "id": "e86206dd",
   "metadata": {},
   "outputs": [],
   "source": [
    "#(b)\n",
    "???"
   ]
  },
  {
   "cell_type": "code",
   "execution_count": null,
   "id": "339a532a",
   "metadata": {},
   "outputs": [],
   "source": [
    "#(e)\n",
    "???"
   ]
  },
  {
   "cell_type": "markdown",
   "id": "8d85b1db",
   "metadata": {},
   "source": [
    "3) Implement $\\mathbf{A}_{i} = \\sum_j \\mathbf{F}_i \\mathbf{G} \\mathbf{H}_j$, $\\quad \\forall_{i \\in \\{0, ..., I-1\\}}$, $\\quad \\mathbf{F}_{i} \\in \\mathbb{R}^{K \\times L}$, $\\quad \\mathbf{H}_{j} \\in \\mathbb{R}^{M \\times N}$.\n",
    "\n",
    "- Do (a), (b), (c), (d) and (e)."
   ]
  },
  {
   "cell_type": "code",
   "execution_count": null,
   "id": "957f9885",
   "metadata": {},
   "outputs": [],
   "source": [
    "#(a)\n",
    "???"
   ]
  },
  {
   "cell_type": "code",
   "execution_count": null,
   "id": "112cd251",
   "metadata": {},
   "outputs": [],
   "source": [
    "#(b)\n",
    "???"
   ]
  },
  {
   "cell_type": "code",
   "execution_count": null,
   "id": "cb882e08",
   "metadata": {},
   "outputs": [],
   "source": [
    "#(c)\n",
    "???"
   ]
  },
  {
   "cell_type": "code",
   "execution_count": null,
   "id": "15feefcc",
   "metadata": {},
   "outputs": [],
   "source": [
    "#(d)\n",
    "???"
   ]
  },
  {
   "cell_type": "code",
   "execution_count": null,
   "id": "7c44f799",
   "metadata": {},
   "outputs": [],
   "source": [
    "#(e)\n",
    "???"
   ]
  },
  {
   "cell_type": "markdown",
   "id": "bc2c48c0",
   "metadata": {},
   "source": [
    "4) Implement $e_{k, n} = (\\mathbf{x}_n-\\boldsymbol{\\mu}_k)^\\mathrm{T} \\boldsymbol{\\Lambda}_k (\\mathbf{x}_n-\\boldsymbol{\\mu}_k)$, $\\quad \\forall_{k \\in \\{0, ..., K-1\\}, n \\in \\{0, ..., N-1\\}}$, $\\quad\\boldsymbol{\\Lambda}_k = \\boldsymbol{\\Sigma}_k^{-1} \\in \\mathbb{R}^{D \\times D}$\n",
    "\n",
    "- Do (a), (b), (c), (d) and (e)."
   ]
  },
  {
   "cell_type": "code",
   "execution_count": null,
   "id": "444c9124",
   "metadata": {},
   "outputs": [],
   "source": [
    "#(a)\n",
    "???"
   ]
  },
  {
   "cell_type": "code",
   "execution_count": null,
   "id": "35a087ae",
   "metadata": {},
   "outputs": [],
   "source": [
    "#(b)\n",
    "???"
   ]
  },
  {
   "cell_type": "code",
   "execution_count": null,
   "id": "28c75fab",
   "metadata": {},
   "outputs": [],
   "source": [
    "#(c)\n",
    "???"
   ]
  },
  {
   "cell_type": "code",
   "execution_count": null,
   "id": "37f00dab",
   "metadata": {},
   "outputs": [],
   "source": [
    "#(d)\n",
    "???"
   ]
  },
  {
   "cell_type": "code",
   "execution_count": null,
   "id": "31d5f381",
   "metadata": {},
   "outputs": [],
   "source": [
    "#(e)\n",
    "???"
   ]
  },
  {
   "cell_type": "markdown",
   "id": "1b264c99-009c-4199-91f8-c063a40184c3",
   "metadata": {},
   "source": [
    "## (f) Einsum\n",
    "\n",
    "Use np.einsum\n",
    "\n",
    "Einsum is a powerfull pattern to implement an equation that has often the following properties:\n",
    " - short\n",
    " - easy to read\n",
    " - combination of documentation and implementation\n"
   ]
  },
  {
   "cell_type": "markdown",
   "id": "367400bb",
   "metadata": {},
   "source": [
    "5) Do all tasks for (f), i.e. use einsum. In 4.(f) broadcasting is allowed."
   ]
  },
  {
   "cell_type": "code",
   "execution_count": null,
   "id": "184f93a1",
   "metadata": {},
   "outputs": [],
   "source": [
    "???"
   ]
  },
  {
   "cell_type": "markdown",
   "id": "b35c13e3-d844-404b-b134-ed3da0a757fd",
   "metadata": {},
   "source": [
    "## Extra task: (g) List comprehension\n",
    "\n",
    "Use list comprehensions\n",
    "\n",
    "Implement all equations as follows:\n",
    " - Use as many listcomprehensions as nessesary\n",
    " - Use a single summation (`sum`). Do you know the difference between a generator and list comprehension?"
   ]
  },
  {
   "cell_type": "markdown",
   "id": "f381d766",
   "metadata": {},
   "source": [
    "6) Optional: Do all tasks for (g), i.e. use list comprehension."
   ]
  },
  {
   "cell_type": "code",
   "execution_count": null,
   "id": "5d9ee557",
   "metadata": {},
   "outputs": [],
   "source": [
    "???"
   ]
  },
  {
   "cell_type": "markdown",
   "id": "428359a4",
   "metadata": {},
   "source": [
    "<!-- \n",
    "b = np.arange(I*J).reshape(I, J)\n",
    "a = np.einsum('ij->i', b)\n",
    "print('1.f)', a, a.shape, (I,))\n",
    "\n",
    "C = np.arange(K*L).reshape(K, L)\n",
    "e = np.arange(L).reshape(L)\n",
    "A = np.einsum('kl,l->k', C, e)\n",
    "print('2.f)', A, A.shape, (K,))\n",
    "\n",
    "F = np.arange(I*K*L).reshape(I, K, L)\n",
    "G = np.arange(L*M).reshape(L, M)\n",
    "H = np.arange(J*M*N).reshape(J, M, N)\n",
    "A = np.einsum('ikl,lm,jmn->ikn', F, G, H)\n",
    "print('3.f)', A, A.shape, (I, K, N))\n",
    "\n",
    "x = np.arange(N*D).reshape(N, D)\n",
    "mu = np.arange(K*D).reshape(K, D)\n",
    "lambda_ = np.arange(K*D*D).reshape(K, D, D)\n",
    "diff = x - mu[:, None, :]\n",
    "a = np.einsum('knd,kdD,knd->kn', diff, lambda_, diff)\n",
    "print('4.f)', a, a.shape, (K, N))\n",
    " -->"
   ]
  }
 ],
 "metadata": {
  "@webio": {
   "lastCommId": null,
   "lastKernelId": null
  },
  "kernelspec": {
   "display_name": "Python 3 (ipykernel)",
   "language": "python",
   "name": "python3"
  },
  "language_info": {
   "codemirror_mode": {
    "name": "ipython",
    "version": 3
   },
   "file_extension": ".py",
   "mimetype": "text/x-python",
   "name": "python",
   "nbconvert_exporter": "python",
   "pygments_lexer": "ipython3",
   "version": "3.11.4"
  }
 },
 "nbformat": 4,
 "nbformat_minor": 5
}
